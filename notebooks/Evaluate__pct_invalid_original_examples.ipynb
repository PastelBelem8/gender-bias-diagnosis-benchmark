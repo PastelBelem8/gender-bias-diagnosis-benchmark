{
 "cells": [
  {
   "cell_type": "code",
   "execution_count": null,
   "id": "08c3d877",
   "metadata": {},
   "outputs": [],
   "source": [
    "import pandas as pd\n",
    "import numpy as np"
   ]
  },
  {
   "cell_type": "markdown",
   "id": "5e0db747",
   "metadata": {},
   "source": [
    "## Framework evaluation \n",
    "\n",
    "In this notebook we run a quantitative analysis over the generated test sentence pairs to make sure that the generated sentences have at least one pronoun and that they have the selected attribute word (in the `word` column).\n",
    "\n",
    "Another key detail to this evaluation is that we verify whether a word is present or not using exact match.\n",
    "That is, we do not accept small variations of the same word.\n",
    "While having variations of the same word increases semantic and lexical diversity, the same root word may induce different PMI-based skews. \n",
    "For example, \"thirst\" and \"thirsty\" are two words deriving from the same root word, yet they exhibit opposite gender skews."
   ]
  },
  {
   "cell_type": "code",
   "execution_count": null,
   "id": "c4cd69cf",
   "metadata": {
    "scrolled": true
   },
   "outputs": [],
   "source": [
    "# Uncomment and rerun accordingly\n",
    "BASE_DIR = \"../results-words5\"\n",
    "# BASE_DIR = \"../results-words10\"\n",
    "# BASE_DIR = \"../results-words20\"\n",
    "FILENAMES = [\"/step3_filter_is_likely__he\",\"step3_filter_is_likely__she\"]\n",
    "\n",
    "dfs = []\n",
    "for i in range(1, 6):\n",
    "    for filename in FILENAMES:\n",
    "        dfs.append(pd.read_csv(f\"{BASE_DIR}/words{i}/{filename}.csv\"))\n",
    "        \n",
    "df = pd.concat(dfs).reset_index(drop=True)\n",
    "print(len(df))\n",
    "df.sample(10)"
   ]
  },
  {
   "cell_type": "code",
   "execution_count": null,
   "id": "b4635da2",
   "metadata": {},
   "outputs": [],
   "source": [
    "df_revised = pd.read_csv(f\"{BASE_DIR}/final-results/revised_templates.csv\", index_col=0)\n",
    "print(len(df_revised))\n",
    "df_revised.sample(10)"
   ]
  },
  {
   "cell_type": "markdown",
   "id": "d8202a31",
   "metadata": {},
   "source": [
    "## step 1. Determine whether there is exact match of the word"
   ]
  },
  {
   "cell_type": "code",
   "execution_count": null,
   "id": "1142f2fe",
   "metadata": {},
   "outputs": [],
   "source": [
    "import re\n",
    "\n",
    "def is_word_in_template(data) -> str:\n",
    "    # contractions can be tricky so we'll account for that\n",
    "    word, sentence = data[\"word\"].lower(), data[\"sentence\"].lower()\n",
    "    return re.search(f\"\\\\b{word}\\\\b\", sentence) is not None\n",
    "\n",
    "df[\"has_word\"] = df[[\"word\", \"sentence\"]].apply(is_word_in_template, axis=1)\n",
    "print(\"Original:\", df[\"has_word\"].value_counts() / len(df) * 100)\n",
    "print(\"Revised:\", df_revised[\"has_word\"].value_counts() / len(df_revised) * 100)"
   ]
  },
  {
   "cell_type": "code",
   "execution_count": null,
   "id": "2ed3ff38",
   "metadata": {},
   "outputs": [],
   "source": []
  },
  {
   "cell_type": "code",
   "execution_count": null,
   "id": "5e0194e3",
   "metadata": {},
   "outputs": [],
   "source": [
    "print(\"Original:\", df[\"has_placeholder\"].value_counts() / len(df) * 100)\n",
    "print(\"Revised:\", df_revised[\"has_placeholder\"].value_counts() / len(df_revised) * 100)"
   ]
  },
  {
   "cell_type": "markdown",
   "id": "b9480ff9",
   "metadata": {},
   "source": [
    "## step 2. Determine whether they are both likely:"
   ]
  },
  {
   "cell_type": "code",
   "execution_count": null,
   "id": "d3412e40",
   "metadata": {},
   "outputs": [],
   "source": [
    "def is_likely_both(data) -> str:\n",
    "    dct = eval(data)\n",
    "    return dct[\"male\"] == \"likely\" and dct[\"female\"] == \"likely\"\n",
    "\n",
    "df[\"is_natural\"] = df[\"likely_under\"].apply(is_likely_both)\n",
    "df[\"is_natural\"].value_counts() / len(df) * 100"
   ]
  },
  {
   "cell_type": "code",
   "execution_count": null,
   "id": "0e9d0166",
   "metadata": {},
   "outputs": [],
   "source": [
    "df_revised[\"is_natural\"].value_counts() / len(df_revised) * 100"
   ]
  },
  {
   "cell_type": "code",
   "execution_count": null,
   "id": "26523d8f",
   "metadata": {},
   "outputs": [],
   "source": [
    "df[~df[\"is_natural\"]][\"likely_under\"].value_counts()"
   ]
  },
  {
   "cell_type": "code",
   "execution_count": null,
   "id": "6b437646",
   "metadata": {},
   "outputs": [],
   "source": [
    "df[~df[\"is_natural\"]].sample(frac=1, random_state=91273, replace=False).values[:5]"
   ]
  },
  {
   "cell_type": "markdown",
   "id": "34ab817e",
   "metadata": {},
   "source": [
    "### step 3. Whether they're all valid or not"
   ]
  },
  {
   "cell_type": "code",
   "execution_count": null,
   "id": "5261ed77",
   "metadata": {},
   "outputs": [],
   "source": [
    "df[\"is_valid\"] = (df[\"is_natural\"]) & (df[\"has_word\"]) & (df[\"has_placeholder\"])\n",
    "df[\"is_valid\"].value_counts() / len(df) * 100"
   ]
  },
  {
   "cell_type": "code",
   "execution_count": null,
   "id": "3c9c6d65",
   "metadata": {},
   "outputs": [],
   "source": [
    "df[~df[\"is_valid\"]].groupby([\"word\", \"target_word\"]).count().sort_values(\"sentence\").tail(15)"
   ]
  },
  {
   "cell_type": "code",
   "execution_count": null,
   "id": "ba1030b3",
   "metadata": {},
   "outputs": [],
   "source": [
    "df[~df[\"is_valid\"]].values[:10]"
   ]
  },
  {
   "cell_type": "code",
   "execution_count": null,
   "id": "35928961",
   "metadata": {},
   "outputs": [],
   "source": [
    "df_revised[\"is_valid\"] = (df_revised[\"is_natural\"]) & (df_revised[\"has_word\"]) & (df_revised[\"has_placeholder\"])\n",
    "df_revised[\"is_valid\"].value_counts() / len(df_revised) * 100"
   ]
  },
  {
   "cell_type": "code",
   "execution_count": null,
   "id": "867c1e1b",
   "metadata": {},
   "outputs": [],
   "source": []
  }
 ],
 "metadata": {
  "kernelspec": {
   "display_name": "Python 3 (ipykernel)",
   "language": "python",
   "name": "python3"
  },
  "language_info": {
   "codemirror_mode": {
    "name": "ipython",
    "version": 3
   },
   "file_extension": ".py",
   "mimetype": "text/x-python",
   "name": "python",
   "nbconvert_exporter": "python",
   "pygments_lexer": "ipython3",
   "version": "3.8.10"
  }
 },
 "nbformat": 4,
 "nbformat_minor": 5
}
